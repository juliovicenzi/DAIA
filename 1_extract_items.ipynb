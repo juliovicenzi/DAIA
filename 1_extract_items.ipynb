{
 "cells": [
  {
   "cell_type": "markdown",
   "metadata": {},
   "source": [
    "# Diabetes chat insulin recommendation\n",
    "\n",
    "## Goals\n",
    "\n",
    "1. Read query, find any food items\n",
    "   1. Extract key food items\n",
    "2. Retrieve nutrional value from items\n",
    "   1. Find db with nutrional information\n",
    "   2. Fuzzy search\n",
    "3. Return expected insulin units required for meal\n",
    "   1. Calculation can be straightforward\n",
    "   2. Think of a way to find user's sensibility and ratios for insulin"
   ]
  },
  {
   "cell_type": "markdown",
   "metadata": {},
   "source": [
    "## 1. Extract food items"
   ]
  },
  {
   "cell_type": "markdown",
   "metadata": {},
   "source": [
    "Model selection:\n",
    "\n",
    "- Deepseek-r1 does not support structured output, reasoning is not required for this task\n",
    "- Mistral is lightweight and is a good candidate for this effort\n",
    "- Explore other options in the future\n",
    "\n",
    "Structured output:\n",
    "\n",
    "- We must extract both the foods items, and their quantity\n",
    "  - TODO: Move towards weight of each food, and volume for beverages\n",
    "- Revise exected output based on step #2, on how to retrieve nutrional value\n",
    "\n",
    "Evaluate:\n",
    "\n",
    "- Use MLflow for evaluation\n",
    "- Create an evaluation dataset\n",
    "- Metrics "
   ]
  },
  {
   "cell_type": "code",
   "execution_count": null,
   "metadata": {},
   "outputs": [],
   "source": [
    "from langchain_ollama import ChatOllama\n",
    "from pydantic import BaseModel, Field\n",
    "\n",
    "\n",
    "class FoodOutput(BaseModel):\n",
    "    foods: dict[str, str] = Field(\n",
    "        title=\"Key is the food name, value is the quantity\",\n",
    "        examples={\"pizza\": \"200g\", \"burger\": \"1\"},\n",
    "    )\n",
    "\n",
    "\n",
    "llm = ChatOllama(\n",
    "    model=\"mistral:latest\", temperature=0, json=True, format=FoodOutput.model_json_schema()\n",
    ")"
   ]
  },
  {
   "cell_type": "code",
   "execution_count": null,
   "metadata": {},
   "outputs": [],
   "source": [
    "from langchain_core.messages import SystemMessage, HumanMessage\n",
    "\n",
    "\n",
    "def invoke(user_prompt: str, llm: ChatOllama) -> dict:\n",
    "    messages = [\n",
    "        SystemMessage(\n",
    "            \"\"\"\n",
    "            You will recieve user prompt about food. Output in JSON format the food items as keys and the amount as integer values.\"\n",
    "            For example:\n",
    "            prompt: \"I ate 2 apples and a steak\", \n",
    "            output: {\"foods\": {\"apples\": \"2\", \"steak\": \"1\"}}\"\n",
    "            \n",
    "            prompt: \"I need to bolus for 100 g of yogurt and 2 slices of bread\",\n",
    "            output: {\"foods\": {\"yogurt\": \"100g\", \"bread\": \"2\"}}\n",
    "            \"\"\"\n",
    "        ),\n",
    "        HumanMessage(user_prompt),\n",
    "    ]\n",
    "    return llm.invoke(messages)\n",
    "\n",
    "\n",
    "user_prompt = \"I ate two slices of pizza and 50 g of chocolate\"\n",
    "invoke(user_prompt, llm)"
   ]
  },
  {
   "cell_type": "code",
   "execution_count": null,
   "metadata": {},
   "outputs": [],
   "source": [
    "import json\n",
    "import pandas as pd\n",
    "\n",
    "with open(\"examples/few_shot_food.json\", \"r\") as f:\n",
    "    queries = json.load(f)\n",
    "\n",
    "results = []\n",
    "for query in queries:\n",
    "    prompt_output = invoke(query[\"question\"], llm)\n",
    "    expected_output = str(query[\"answer\"])\n",
    "    results.append((prompt_output.content, expected_output))\n",
    "\n",
    "df = pd.DataFrame(results, columns=[\"prompt_output\", \"expected_output\"])"
   ]
  },
  {
   "cell_type": "code",
   "execution_count": null,
   "metadata": {},
   "outputs": [],
   "source": [
    "df"
   ]
  },
  {
   "cell_type": "markdown",
   "metadata": {},
   "source": [
    "### Evaluation\n",
    "\n",
    "First, let's build a dataset for testing.\n",
    "Considerations:\n",
    "\n",
    "- Must include a range of foods\n",
    "- Must include sentences without any foods associated"
   ]
  }
 ],
 "metadata": {
  "kernelspec": {
   "display_name": ".venv",
   "language": "python",
   "name": "python3"
  },
  "language_info": {
   "codemirror_mode": {
    "name": "ipython",
    "version": 3
   },
   "file_extension": ".py",
   "mimetype": "text/x-python",
   "name": "python",
   "nbconvert_exporter": "python",
   "pygments_lexer": "ipython3",
   "version": "3.13.2"
  }
 },
 "nbformat": 4,
 "nbformat_minor": 2
}
