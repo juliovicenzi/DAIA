{
 "cells": [
  {
   "cell_type": "markdown",
   "metadata": {},
   "source": [
    "# 2. Retrieval\n",
    "\n",
    "The main objective here is to query our dataset of nutrional information from a given list of food names and their quantity.\n",
    "\n",
    "1. Find a way to store the data into a suitable databse:\n",
    "2. Explore the dataset\n",
    "3. Find a way to match food names with the ones found in the database\n",
    "4. Find a way to output the nutrional value for the given amount"
   ]
  },
  {
   "cell_type": "code",
   "execution_count": null,
   "metadata": {},
   "outputs": [],
   "source": [
    "import pandas as pd\n",
    "import pyarrow.parquet as pq \n",
    "\n",
    "pf = pq.ParquetFile('data/food.parquet')\n",
    "\n",
    "df = next(pf.iter_batches(1000)).to_pandas()\n",
    "df"
   ]
  },
  {
   "cell_type": "markdown",
   "metadata": {},
   "source": [
    "The dataset contains multiple languages. For the sake of simplicity, let's filter out any rows with language other than english"
   ]
  }
 ],
 "metadata": {
  "kernelspec": {
   "display_name": ".venv",
   "language": "python",
   "name": "python3"
  },
  "language_info": {
   "codemirror_mode": {
    "name": "ipython",
    "version": 3
   },
   "file_extension": ".py",
   "mimetype": "text/x-python",
   "name": "python",
   "nbconvert_exporter": "python",
   "pygments_lexer": "ipython3",
   "version": "3.13.2"
  }
 },
 "nbformat": 4,
 "nbformat_minor": 2
}
