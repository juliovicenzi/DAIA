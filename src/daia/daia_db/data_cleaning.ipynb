{
 "cells": [
  {
   "cell_type": "markdown",
   "id": "02946bdb",
   "metadata": {},
   "source": [
    "# Cleaning nutrional information data"
   ]
  },
  {
   "cell_type": "code",
   "execution_count": 2,
   "id": "d1f0a3f8",
   "metadata": {},
   "outputs": [],
   "source": [
    "import pandas as pd"
   ]
  },
  {
   "cell_type": "code",
   "execution_count": 2,
   "id": "f3b26568",
   "metadata": {},
   "outputs": [],
   "source": [
    "# load the data\n",
    "# nutrient information \n",
    "df_nutrients = pd.read_csv(\"../../data/food_csv/nutrient.csv\")\n",
    "# food name\n",
    "df_food = pd.read_csv(\"../../data/food_csv/food.csv\")\n",
    "# food nutrient information\n",
    "df_food_nutrient = pd.read_csv(\"../../data/food_csv/food_nutrient.csv\")"
   ]
  },
  {
   "cell_type": "code",
   "execution_count": null,
   "id": "10fe4416",
   "metadata": {},
   "outputs": [],
   "source": [
    "df_nutrients = df_nutrients.dropna()\n",
    "df_nutrients = df_nutrients.astype({\"nutrient_nbr\": int})"
   ]
  },
  {
   "cell_type": "markdown",
   "id": "c95494d4",
   "metadata": {},
   "source": [
    "Join tables to include all nutrients in a single df"
   ]
  },
  {
   "cell_type": "code",
   "execution_count": null,
   "id": "399a2ccf",
   "metadata": {},
   "outputs": [],
   "source": [
    "df_cleaned_nutrient = df_food_nutrient.merge(\n",
    "    df_nutrients[[\"nutrient_nbr\", \"name\", \"unit_name\"]],\n",
    "    left_on=\"nutrient_id\",\n",
    "    right_on=\"nutrient_nbr\",\n",
    "    how=\"inner\",\n",
    ")\n",
    "df_cleaned_nutrient = df_cleaned_nutrient[\n",
    "    [\"fdc_id\", \"nutrient_id\", \"amount\", \"name\", \"unit_name\"]\n",
    "]"
   ]
  },
  {
   "cell_type": "markdown",
   "id": "deb352dc",
   "metadata": {},
   "source": [
    "Show the most common nutrients"
   ]
  },
  {
   "cell_type": "code",
   "execution_count": 23,
   "id": "f496f1b4",
   "metadata": {},
   "outputs": [
    {
     "data": {
      "application/vnd.microsoft.datawrangler.viewer.v0+json": {
       "columns": [
        {
         "name": "name",
         "rawType": "object",
         "type": "string"
        },
        {
         "name": "fdc_id",
         "rawType": "int64",
         "type": "integer"
        },
        {
         "name": "nutrient_id",
         "rawType": "int64",
         "type": "integer"
        },
        {
         "name": "amount",
         "rawType": "int64",
         "type": "integer"
        },
        {
         "name": "unit_name",
         "rawType": "int64",
         "type": "integer"
        }
       ],
       "ref": "fe3cb61c-1143-4bab-ab7e-1506480ccb44",
       "rows": [
        [
         "Water",
         "5413",
         "5413",
         "5413",
         "5413"
        ],
        [
         "Energy",
         "5403",
         "5403",
         "5403",
         "5403"
        ],
        [
         "Potassium, K",
         "5389",
         "5389",
         "5389",
         "5389"
        ],
        [
         "Sodium, Na",
         "5365",
         "5365",
         "5365",
         "5365"
        ],
        [
         "Zinc, Zn",
         "5351",
         "5351",
         "5351",
         "5351"
        ],
        [
         "Magnesium, Mg",
         "5322",
         "5322",
         "5322",
         "5322"
        ],
        [
         "Calcium, Ca",
         "5314",
         "5314",
         "5314",
         "5314"
        ],
        [
         "Phosphorus, P",
         "5312",
         "5312",
         "5312",
         "5312"
        ],
        [
         "Copper, Cu",
         "5294",
         "5294",
         "5294",
         "5294"
        ],
        [
         "Iron, Fe",
         "5273",
         "5273",
         "5273",
         "5273"
        ],
        [
         "Riboflavin",
         "5267",
         "5267",
         "5267",
         "5267"
        ],
        [
         "Niacin",
         "5252",
         "5252",
         "5252",
         "5252"
        ],
        [
         "Choline, total",
         "5249",
         "5249",
         "5249",
         "5249"
        ],
        [
         "Protein",
         "5247",
         "5247",
         "5247",
         "5247"
        ],
        [
         "Total lipid (fat)",
         "5237",
         "5237",
         "5237",
         "5237"
        ],
        [
         "Thiamin",
         "5231",
         "5231",
         "5231",
         "5231"
        ],
        [
         "Vitamin B-6",
         "5192",
         "5192",
         "5192",
         "5192"
        ],
        [
         "Fatty acids, total polyunsaturated",
         "5161",
         "5161",
         "5161",
         "5161"
        ],
        [
         "PUFA 18:2",
         "5157",
         "5157",
         "5157",
         "5157"
        ],
        [
         "Selenium, Se",
         "5147",
         "5147",
         "5147",
         "5147"
        ],
        [
         "Fatty acids, total saturated",
         "5144",
         "5144",
         "5144",
         "5144"
        ],
        [
         "SFA 16:0",
         "5141",
         "5141",
         "5141",
         "5141"
        ],
        [
         "Fatty acids, total monounsaturated",
         "5129",
         "5129",
         "5129",
         "5129"
        ],
        [
         "Carbohydrate, by summation",
         "5124",
         "5124",
         "5124",
         "5124"
        ],
        [
         "Carbohydrate, by difference",
         "5124",
         "5124",
         "5124",
         "5124"
        ],
        [
         "MUFA 18:1",
         "5110",
         "5110",
         "5110",
         "5110"
        ],
        [
         "Vitamin E (alpha-tocopherol)",
         "5088",
         "5088",
         "5088",
         "5088"
        ],
        [
         "Tocopherols and tocotrienols",
         "5088",
         "5088",
         "5088",
         "5088"
        ],
        [
         "Folate, DFE",
         "5064",
         "5064",
         "5064",
         "5064"
        ],
        [
         "Folate, total",
         "5064",
         "5064",
         "5064",
         "5064"
        ],
        [
         "SFA 18:0",
         "5035",
         "5035",
         "5035",
         "5035"
        ],
        [
         "PUFA 18:3",
         "5008",
         "5008",
         "5008",
         "5008"
        ],
        [
         "Folate, food",
         "4955",
         "4955",
         "4955",
         "4955"
        ],
        [
         "Total Sugars",
         "4949",
         "4949",
         "4949",
         "4949"
        ],
        [
         "Sugars, Total",
         "4949",
         "4949",
         "4949",
         "4949"
        ],
        [
         "Vitamin K (phylloquinone)",
         "4839",
         "4839",
         "4839",
         "4839"
        ],
        [
         "MUFA 16:1",
         "4729",
         "4729",
         "4729",
         "4729"
        ],
        [
         "SFA 14:0",
         "4709",
         "4709",
         "4709",
         "4709"
        ],
        [
         "Vitamin A, RAE",
         "4233",
         "4233",
         "4233",
         "4233"
        ],
        [
         "Fiber, total dietary",
         "4217",
         "4217",
         "4217",
         "4217"
        ],
        [
         "MUFA 20:1",
         "4080",
         "4080",
         "4080",
         "4080"
        ],
        [
         "SFA 12:0",
         "3815",
         "3815",
         "3815",
         "3815"
        ],
        [
         "Zeaxanthin",
         "3783",
         "3783",
         "3783",
         "3783"
        ],
        [
         "Lutein",
         "3783",
         "3783",
         "3783",
         "3783"
        ],
        [
         "Lutein + zeaxanthin",
         "3783",
         "3783",
         "3783",
         "3783"
        ],
        [
         "cis-Lutein/Zeaxanthin",
         "3783",
         "3783",
         "3783",
         "3783"
        ],
        [
         "cis-beta-Carotene",
         "3670",
         "3670",
         "3670",
         "3670"
        ],
        [
         "trans-beta-Carotene",
         "3670",
         "3670",
         "3670",
         "3670"
        ],
        [
         "Carotene, beta",
         "3670",
         "3670",
         "3670",
         "3670"
        ],
        [
         "Vitamin C, total ascorbic acid",
         "3483",
         "3483",
         "3483",
         "3483"
        ]
       ],
       "shape": {
        "columns": 4,
        "rows": 75
       }
      },
      "text/html": [
       "<div>\n",
       "<style scoped>\n",
       "    .dataframe tbody tr th:only-of-type {\n",
       "        vertical-align: middle;\n",
       "    }\n",
       "\n",
       "    .dataframe tbody tr th {\n",
       "        vertical-align: top;\n",
       "    }\n",
       "\n",
       "    .dataframe thead th {\n",
       "        text-align: right;\n",
       "    }\n",
       "</style>\n",
       "<table border=\"1\" class=\"dataframe\">\n",
       "  <thead>\n",
       "    <tr style=\"text-align: right;\">\n",
       "      <th></th>\n",
       "      <th>fdc_id</th>\n",
       "      <th>nutrient_id</th>\n",
       "      <th>amount</th>\n",
       "      <th>unit_name</th>\n",
       "    </tr>\n",
       "    <tr>\n",
       "      <th>name</th>\n",
       "      <th></th>\n",
       "      <th></th>\n",
       "      <th></th>\n",
       "      <th></th>\n",
       "    </tr>\n",
       "  </thead>\n",
       "  <tbody>\n",
       "    <tr>\n",
       "      <th>Water</th>\n",
       "      <td>5413</td>\n",
       "      <td>5413</td>\n",
       "      <td>5413</td>\n",
       "      <td>5413</td>\n",
       "    </tr>\n",
       "    <tr>\n",
       "      <th>Energy</th>\n",
       "      <td>5403</td>\n",
       "      <td>5403</td>\n",
       "      <td>5403</td>\n",
       "      <td>5403</td>\n",
       "    </tr>\n",
       "    <tr>\n",
       "      <th>Potassium, K</th>\n",
       "      <td>5389</td>\n",
       "      <td>5389</td>\n",
       "      <td>5389</td>\n",
       "      <td>5389</td>\n",
       "    </tr>\n",
       "    <tr>\n",
       "      <th>Sodium, Na</th>\n",
       "      <td>5365</td>\n",
       "      <td>5365</td>\n",
       "      <td>5365</td>\n",
       "      <td>5365</td>\n",
       "    </tr>\n",
       "    <tr>\n",
       "      <th>Zinc, Zn</th>\n",
       "      <td>5351</td>\n",
       "      <td>5351</td>\n",
       "      <td>5351</td>\n",
       "      <td>5351</td>\n",
       "    </tr>\n",
       "    <tr>\n",
       "      <th>...</th>\n",
       "      <td>...</td>\n",
       "      <td>...</td>\n",
       "      <td>...</td>\n",
       "      <td>...</td>\n",
       "    </tr>\n",
       "    <tr>\n",
       "      <th>Caffeine</th>\n",
       "      <td>403</td>\n",
       "      <td>403</td>\n",
       "      <td>403</td>\n",
       "      <td>403</td>\n",
       "    </tr>\n",
       "    <tr>\n",
       "      <th>Theobromine</th>\n",
       "      <td>275</td>\n",
       "      <td>275</td>\n",
       "      <td>275</td>\n",
       "      <td>275</td>\n",
       "    </tr>\n",
       "    <tr>\n",
       "      <th>Vitamin B-12, added</th>\n",
       "      <td>265</td>\n",
       "      <td>265</td>\n",
       "      <td>265</td>\n",
       "      <td>265</td>\n",
       "    </tr>\n",
       "    <tr>\n",
       "      <th>Vitamin E, added</th>\n",
       "      <td>193</td>\n",
       "      <td>193</td>\n",
       "      <td>193</td>\n",
       "      <td>193</td>\n",
       "    </tr>\n",
       "    <tr>\n",
       "      <th>Alcohol, ethyl</th>\n",
       "      <td>91</td>\n",
       "      <td>91</td>\n",
       "      <td>91</td>\n",
       "      <td>91</td>\n",
       "    </tr>\n",
       "  </tbody>\n",
       "</table>\n",
       "<p>75 rows × 4 columns</p>\n",
       "</div>"
      ],
      "text/plain": [
       "                     fdc_id  nutrient_id  amount  unit_name\n",
       "name                                                       \n",
       "Water                  5413         5413    5413       5413\n",
       "Energy                 5403         5403    5403       5403\n",
       "Potassium, K           5389         5389    5389       5389\n",
       "Sodium, Na             5365         5365    5365       5365\n",
       "Zinc, Zn               5351         5351    5351       5351\n",
       "...                     ...          ...     ...        ...\n",
       "Caffeine                403          403     403        403\n",
       "Theobromine             275          275     275        275\n",
       "Vitamin B-12, added     265          265     265        265\n",
       "Vitamin E, added        193          193     193        193\n",
       "Alcohol, ethyl           91           91      91         91\n",
       "\n",
       "[75 rows x 4 columns]"
      ]
     },
     "execution_count": 23,
     "metadata": {},
     "output_type": "execute_result"
    }
   ],
   "source": [
    "df_cleaned_nutrient[df_cleaned_nutrient[\"amount\"] > 0].groupby(\n",
    "    \"name\"\n",
    ").count().sort_values(by=\"fdc_id\", ascending=False)"
   ]
  },
  {
   "cell_type": "markdown",
   "id": "45215ce5",
   "metadata": {},
   "source": [
    "Remove unwanted columns"
   ]
  },
  {
   "cell_type": "code",
   "execution_count": null,
   "id": "730e1ab3",
   "metadata": {},
   "outputs": [],
   "source": [
    "required_nutrients = (\n",
    "    \"Protein\",\n",
    "    \"Energy\",\n",
    "    \"Total lipid (fat)\",\n",
    "    \"Carbohydrate, by summation\",\n",
    "    \"Fiber, total dietary\",\n",
    ")\n",
    "df_cleaned_nutrient = df_cleaned_nutrient[\n",
    "    df_cleaned_nutrient[\"name\"].isin(required_nutrients)\n",
    "]"
   ]
  },
  {
   "cell_type": "code",
   "execution_count": 25,
   "id": "7190bcb9",
   "metadata": {},
   "outputs": [
    {
     "data": {
      "application/vnd.microsoft.datawrangler.viewer.v0+json": {
       "columns": [
        {
         "name": "index",
         "rawType": "int64",
         "type": "integer"
        },
        {
         "name": "fdc_id",
         "rawType": "int64",
         "type": "integer"
        },
        {
         "name": "nutrient_id",
         "rawType": "int64",
         "type": "integer"
        },
        {
         "name": "amount",
         "rawType": "float64",
         "type": "float"
        },
        {
         "name": "name",
         "rawType": "object",
         "type": "string"
        },
        {
         "name": "unit_name",
         "rawType": "object",
         "type": "string"
        }
       ],
       "ref": "193fccbf-4308-4fad-bc24-98c519113519",
       "rows": [
        [
         "8",
         "2705384",
         "269",
         "4.88",
         "Sugars, Total",
         "G"
        ],
        [
         "9",
         "2705384",
         "269",
         "4.88",
         "Total Sugars",
         "G"
        ],
        [
         "13",
         "2705384",
         "204",
         "2.14",
         "Total lipid (fat)",
         "G"
        ],
        [
         "19",
         "2705384",
         "208",
         "52.0",
         "Energy",
         "KCAL"
        ],
        [
         "27",
         "2705384",
         "606",
         "1.249",
         "Fatty acids, total saturated",
         "G"
        ],
        [
         "35",
         "2705384",
         "645",
         "0.458",
         "Fatty acids, total monounsaturated",
         "G"
        ],
        [
         "39",
         "2705384",
         "205",
         "4.83",
         "Carbohydrate, by difference",
         "G"
        ],
        [
         "40",
         "2705384",
         "205",
         "4.83",
         "Carbohydrate, by summation",
         "G"
        ],
        [
         "49",
         "2705384",
         "203",
         "3.33",
         "Protein",
         "G"
        ],
        [
         "51",
         "2705384",
         "291",
         "0.0",
         "Fiber, total dietary",
         "G"
        ],
        [
         "75",
         "2705385",
         "291",
         "0.0",
         "Fiber, total dietary",
         "G"
        ],
        [
         "82",
         "2705385",
         "205",
         "4.63",
         "Carbohydrate, by difference",
         "G"
        ],
        [
         "83",
         "2705385",
         "205",
         "4.63",
         "Carbohydrate, by summation",
         "G"
        ],
        [
         "95",
         "2705385",
         "204",
         "3.2",
         "Total lipid (fat)",
         "G"
        ],
        [
         "99",
         "2705385",
         "645",
         "0.688",
         "Fatty acids, total monounsaturated",
         "G"
        ],
        [
         "108",
         "2705385",
         "203",
         "3.27",
         "Protein",
         "G"
        ],
        [
         "112",
         "2705385",
         "606",
         "1.86",
         "Fatty acids, total saturated",
         "G"
        ],
        [
         "125",
         "2705385",
         "269",
         "4.81",
         "Sugars, Total",
         "G"
        ],
        [
         "126",
         "2705385",
         "269",
         "4.81",
         "Total Sugars",
         "G"
        ],
        [
         "146",
         "2705385",
         "208",
         "61.0",
         "Energy",
         "KCAL"
        ],
        [
         "150",
         "2705386",
         "269",
         "4.89",
         "Sugars, Total",
         "G"
        ],
        [
         "151",
         "2705386",
         "269",
         "4.89",
         "Total Sugars",
         "G"
        ],
        [
         "169",
         "2705386",
         "203",
         "3.36",
         "Protein",
         "G"
        ],
        [
         "184",
         "2705386",
         "208",
         "50.0",
         "Energy",
         "KCAL"
        ],
        [
         "187",
         "2705386",
         "205",
         "4.9",
         "Carbohydrate, by difference",
         "G"
        ],
        [
         "188",
         "2705386",
         "205",
         "4.9",
         "Carbohydrate, by summation",
         "G"
        ],
        [
         "194",
         "2705386",
         "291",
         "0.0",
         "Fiber, total dietary",
         "G"
        ],
        [
         "207",
         "2705386",
         "645",
         "0.4",
         "Fatty acids, total monounsaturated",
         "G"
        ],
        [
         "211",
         "2705386",
         "204",
         "1.9",
         "Total lipid (fat)",
         "G"
        ],
        [
         "222",
         "2705386",
         "606",
         "1.11",
         "Fatty acids, total saturated",
         "G"
        ],
        [
         "230",
         "2705387",
         "606",
         "0.568",
         "Fatty acids, total saturated",
         "G"
        ],
        [
         "234",
         "2705387",
         "205",
         "5.18",
         "Carbohydrate, by difference",
         "G"
        ],
        [
         "235",
         "2705387",
         "205",
         "5.18",
         "Carbohydrate, by summation",
         "G"
        ],
        [
         "240",
         "2705387",
         "204",
         "0.95",
         "Total lipid (fat)",
         "G"
        ],
        [
         "244",
         "2705387",
         "208",
         "43.0",
         "Energy",
         "KCAL"
        ],
        [
         "246",
         "2705387",
         "269",
         "4.96",
         "Sugars, Total",
         "G"
        ],
        [
         "247",
         "2705387",
         "269",
         "4.96",
         "Total Sugars",
         "G"
        ],
        [
         "251",
         "2705387",
         "203",
         "3.38",
         "Protein",
         "G"
        ],
        [
         "272",
         "2705387",
         "291",
         "0.0",
         "Fiber, total dietary",
         "G"
        ],
        [
         "288",
         "2705387",
         "645",
         "0.21",
         "Fatty acids, total monounsaturated",
         "G"
        ],
        [
         "319",
         "2705388",
         "291",
         "0.0",
         "Fiber, total dietary",
         "G"
        ],
        [
         "320",
         "2705388",
         "208",
         "34.0",
         "Energy",
         "KCAL"
        ],
        [
         "324",
         "2705388",
         "645",
         "0.017",
         "Fatty acids, total monounsaturated",
         "G"
        ],
        [
         "333",
         "2705388",
         "205",
         "4.92",
         "Carbohydrate, by difference",
         "G"
        ],
        [
         "334",
         "2705388",
         "205",
         "4.92",
         "Carbohydrate, by summation",
         "G"
        ],
        [
         "337",
         "2705388",
         "203",
         "3.43",
         "Protein",
         "G"
        ],
        [
         "340",
         "2705388",
         "606",
         "0.049",
         "Fatty acids, total saturated",
         "G"
        ],
        [
         "362",
         "2705388",
         "204",
         "0.08",
         "Total lipid (fat)",
         "G"
        ],
        [
         "368",
         "2705388",
         "269",
         "5.05",
         "Sugars, Total",
         "G"
        ],
        [
         "369",
         "2705388",
         "269",
         "5.05",
         "Total Sugars",
         "G"
        ]
       ],
       "shape": {
        "columns": 5,
        "rows": 54310
       }
      },
      "text/html": [
       "<div>\n",
       "<style scoped>\n",
       "    .dataframe tbody tr th:only-of-type {\n",
       "        vertical-align: middle;\n",
       "    }\n",
       "\n",
       "    .dataframe tbody tr th {\n",
       "        vertical-align: top;\n",
       "    }\n",
       "\n",
       "    .dataframe thead th {\n",
       "        text-align: right;\n",
       "    }\n",
       "</style>\n",
       "<table border=\"1\" class=\"dataframe\">\n",
       "  <thead>\n",
       "    <tr style=\"text-align: right;\">\n",
       "      <th></th>\n",
       "      <th>fdc_id</th>\n",
       "      <th>nutrient_id</th>\n",
       "      <th>amount</th>\n",
       "      <th>name</th>\n",
       "      <th>unit_name</th>\n",
       "    </tr>\n",
       "  </thead>\n",
       "  <tbody>\n",
       "    <tr>\n",
       "      <th>8</th>\n",
       "      <td>2705384</td>\n",
       "      <td>269</td>\n",
       "      <td>4.880</td>\n",
       "      <td>Sugars, Total</td>\n",
       "      <td>G</td>\n",
       "    </tr>\n",
       "    <tr>\n",
       "      <th>9</th>\n",
       "      <td>2705384</td>\n",
       "      <td>269</td>\n",
       "      <td>4.880</td>\n",
       "      <td>Total Sugars</td>\n",
       "      <td>G</td>\n",
       "    </tr>\n",
       "    <tr>\n",
       "      <th>13</th>\n",
       "      <td>2705384</td>\n",
       "      <td>204</td>\n",
       "      <td>2.140</td>\n",
       "      <td>Total lipid (fat)</td>\n",
       "      <td>G</td>\n",
       "    </tr>\n",
       "    <tr>\n",
       "      <th>19</th>\n",
       "      <td>2705384</td>\n",
       "      <td>208</td>\n",
       "      <td>52.000</td>\n",
       "      <td>Energy</td>\n",
       "      <td>KCAL</td>\n",
       "    </tr>\n",
       "    <tr>\n",
       "      <th>27</th>\n",
       "      <td>2705384</td>\n",
       "      <td>606</td>\n",
       "      <td>1.249</td>\n",
       "      <td>Fatty acids, total saturated</td>\n",
       "      <td>G</td>\n",
       "    </tr>\n",
       "    <tr>\n",
       "      <th>...</th>\n",
       "      <td>...</td>\n",
       "      <td>...</td>\n",
       "      <td>...</td>\n",
       "      <td>...</td>\n",
       "      <td>...</td>\n",
       "    </tr>\n",
       "    <tr>\n",
       "      <th>407298</th>\n",
       "      <td>2710814</td>\n",
       "      <td>269</td>\n",
       "      <td>0.000</td>\n",
       "      <td>Sugars, Total</td>\n",
       "      <td>G</td>\n",
       "    </tr>\n",
       "    <tr>\n",
       "      <th>407299</th>\n",
       "      <td>2710814</td>\n",
       "      <td>269</td>\n",
       "      <td>0.000</td>\n",
       "      <td>Total Sugars</td>\n",
       "      <td>G</td>\n",
       "    </tr>\n",
       "    <tr>\n",
       "      <th>407301</th>\n",
       "      <td>2710814</td>\n",
       "      <td>204</td>\n",
       "      <td>100.000</td>\n",
       "      <td>Total lipid (fat)</td>\n",
       "      <td>G</td>\n",
       "    </tr>\n",
       "    <tr>\n",
       "      <th>407306</th>\n",
       "      <td>2710814</td>\n",
       "      <td>203</td>\n",
       "      <td>0.000</td>\n",
       "      <td>Protein</td>\n",
       "      <td>G</td>\n",
       "    </tr>\n",
       "    <tr>\n",
       "      <th>407318</th>\n",
       "      <td>2710814</td>\n",
       "      <td>208</td>\n",
       "      <td>892.000</td>\n",
       "      <td>Energy</td>\n",
       "      <td>KCAL</td>\n",
       "    </tr>\n",
       "  </tbody>\n",
       "</table>\n",
       "<p>54310 rows × 5 columns</p>\n",
       "</div>"
      ],
      "text/plain": [
       "         fdc_id  nutrient_id   amount                          name unit_name\n",
       "8       2705384          269    4.880                 Sugars, Total         G\n",
       "9       2705384          269    4.880                  Total Sugars         G\n",
       "13      2705384          204    2.140             Total lipid (fat)         G\n",
       "19      2705384          208   52.000                        Energy      KCAL\n",
       "27      2705384          606    1.249  Fatty acids, total saturated         G\n",
       "...         ...          ...      ...                           ...       ...\n",
       "407298  2710814          269    0.000                 Sugars, Total         G\n",
       "407299  2710814          269    0.000                  Total Sugars         G\n",
       "407301  2710814          204  100.000             Total lipid (fat)         G\n",
       "407306  2710814          203    0.000                       Protein         G\n",
       "407318  2710814          208  892.000                        Energy      KCAL\n",
       "\n",
       "[54310 rows x 5 columns]"
      ]
     },
     "execution_count": 25,
     "metadata": {},
     "output_type": "execute_result"
    }
   ],
   "source": [
    "df_cleaned_nutrient"
   ]
  },
  {
   "cell_type": "markdown",
   "id": "62795cab",
   "metadata": {},
   "source": [
    "Append the unit name to the end of the nutrient name, to simplify data structure"
   ]
  },
  {
   "cell_type": "code",
   "execution_count": null,
   "id": "44e48f60",
   "metadata": {},
   "outputs": [],
   "source": [
    "df_cleaned_nutrient[\"nutrient\"] = (\n",
    "    df_cleaned_nutrient[\"name\"] + \" (\" + df_cleaned_nutrient[\"unit_name\"] + \")\"\n",
    ")"
   ]
  },
  {
   "cell_type": "markdown",
   "id": "289d5c56",
   "metadata": {},
   "source": [
    "Pivot the table, turning each nutrient into a column, to be joined with the food table"
   ]
  },
  {
   "cell_type": "code",
   "execution_count": 27,
   "id": "3b0fa0b2",
   "metadata": {},
   "outputs": [],
   "source": [
    "df_pivot_nutrient = df_cleaned_nutrient.pivot(\n",
    "    index=\"fdc_id\", columns=\"nutrient\", values=\"amount\"\n",
    ")"
   ]
  },
  {
   "cell_type": "code",
   "execution_count": 28,
   "id": "afe87e51",
   "metadata": {},
   "outputs": [],
   "source": [
    "df_nutrional_information = df_food.merge(df_pivot_nutrient, on=\"fdc_id\", how=\"left\")"
   ]
  },
  {
   "cell_type": "markdown",
   "id": "96c87c76",
   "metadata": {},
   "source": [
    "Rename columns to follow a standard and avoid whitespapce"
   ]
  },
  {
   "cell_type": "code",
   "execution_count": 34,
   "id": "92ddeec5",
   "metadata": {},
   "outputs": [],
   "source": [
    "df_nutrional_information = df_nutrional_information.rename(\n",
    "    columns={\n",
    "        \"description\": \"food_name\",\n",
    "        \"Carbohydrate, by summation (G)\": \"carbohydrates_g\",\n",
    "        \"Energy (KCAL)\": \"energy_kcal\",\n",
    "        \"Total lipid (fat) (G)\": \"lipid_g\",\n",
    "        \"Protein (G)\": \"protein_g\",\n",
    "        \"Fiber, total dietary (G)\": \"fiber_g\",\n",
    "    },\n",
    ")\n",
    "df_nutrional_information = df_nutrional_information[\n",
    "    [\"food_name\", \"carbohydrates_g\", \"energy_kcal\", \"lipid_g\", \"protein_g\", \"fiber_g\"]\n",
    "]"
   ]
  },
  {
   "cell_type": "markdown",
   "id": "a9640a54",
   "metadata": {},
   "source": [
    "Save the cleaned data"
   ]
  },
  {
   "cell_type": "code",
   "execution_count": null,
   "id": "5cc9b30e",
   "metadata": {},
   "outputs": [],
   "source": [
    "df_nutrional_information = df_nutrional_information.dropna()\n",
    "df_nutrional_information.to_csv(\"data/cleaned_food_data.csv\", index=False)"
   ]
  },
  {
   "cell_type": "code",
   "execution_count": null,
   "id": "821f9351",
   "metadata": {},
   "outputs": [
    {
     "ename": "ModuleNotFoundError",
     "evalue": "No module named 'daia'",
     "output_type": "error",
     "traceback": [
      "\u001b[0;31m---------------------------------------------------------------------------\u001b[0m",
      "\u001b[0;31mModuleNotFoundError\u001b[0m                       Traceback (most recent call last)",
      "Cell \u001b[0;32mIn[3], line 3\u001b[0m\n\u001b[1;32m      1\u001b[0m \u001b[38;5;28;01mfrom\u001b[39;00m\u001b[38;5;250m \u001b[39m\u001b[38;5;21;01mlanggraph\u001b[39;00m\u001b[38;5;21;01m.\u001b[39;00m\u001b[38;5;21;01mcheckpoint\u001b[39;00m\u001b[38;5;21;01m.\u001b[39;00m\u001b[38;5;21;01mpostgres\u001b[39;00m\u001b[38;5;250m \u001b[39m\u001b[38;5;28;01mimport\u001b[39;00m PostgresSaver\n\u001b[0;32m----> 3\u001b[0m \u001b[38;5;28;01mfrom\u001b[39;00m\u001b[38;5;250m \u001b[39m\u001b[38;5;21;01mdb_model\u001b[39;00m\u001b[38;5;250m \u001b[39m\u001b[38;5;28;01mimport\u001b[39;00m get_pg_url\n\u001b[1;32m      5\u001b[0m \u001b[38;5;28;01mwith\u001b[39;00m PostgresSaver\u001b[38;5;241m.\u001b[39mfrom_conn_string(\u001b[38;5;28mstr\u001b[39m(get_pg_url())) \u001b[38;5;28;01mas\u001b[39;00m checkpointer:\n\u001b[1;32m      6\u001b[0m     checkpointer\u001b[38;5;241m.\u001b[39msetup()\n",
      "File \u001b[0;32m~/projects/DAIA/src/daia/daia_db/db_model.py:10\u001b[0m\n\u001b[1;32m      7\u001b[0m \u001b[38;5;28;01mfrom\u001b[39;00m\u001b[38;5;250m \u001b[39m\u001b[38;5;21;01msqlalchemy\u001b[39;00m\u001b[38;5;250m \u001b[39m\u001b[38;5;28;01mimport\u001b[39;00m URL, Engine\n\u001b[1;32m      8\u001b[0m \u001b[38;5;28;01mfrom\u001b[39;00m\u001b[38;5;250m \u001b[39m\u001b[38;5;21;01msqlmodel\u001b[39;00m\u001b[38;5;250m \u001b[39m\u001b[38;5;28;01mimport\u001b[39;00m Field, Index, SQLModel, create_engine\n\u001b[0;32m---> 10\u001b[0m \u001b[38;5;28;01mfrom\u001b[39;00m\u001b[38;5;250m \u001b[39m\u001b[38;5;21;01mdaia\u001b[39;00m\u001b[38;5;21;01m.\u001b[39;00m\u001b[38;5;21;01msettings\u001b[39;00m\u001b[38;5;250m \u001b[39m\u001b[38;5;28;01mimport\u001b[39;00m get_settings\n\u001b[1;32m     13\u001b[0m \u001b[38;5;28;01mclass\u001b[39;00m\u001b[38;5;250m \u001b[39m\u001b[38;5;21;01mFoodNutrientsBase\u001b[39;00m(SQLModel):\n\u001b[1;32m     14\u001b[0m \u001b[38;5;250m    \u001b[39m\u001b[38;5;124;03m\"\"\"Base class for FoodNutrients model\"\"\"\u001b[39;00m\n",
      "\u001b[0;31mModuleNotFoundError\u001b[0m: No module named 'daia'"
     ]
    }
   ],
   "source": []
  },
  {
   "cell_type": "code",
   "execution_count": null,
   "id": "5fd4daef",
   "metadata": {},
   "outputs": [],
   "source": []
  }
 ],
 "metadata": {
  "kernelspec": {
   "display_name": ".venv",
   "language": "python",
   "name": "python3"
  },
  "language_info": {
   "codemirror_mode": {
    "name": "ipython",
    "version": 3
   },
   "file_extension": ".py",
   "mimetype": "text/x-python",
   "name": "python",
   "nbconvert_exporter": "python",
   "pygments_lexer": "ipython3",
   "version": "3.10.12"
  }
 },
 "nbformat": 4,
 "nbformat_minor": 5
}
