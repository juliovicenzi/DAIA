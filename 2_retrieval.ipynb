{
 "cells": [
  {
   "cell_type": "markdown",
   "metadata": {},
   "source": [
    "# 2. Retrieval\n",
    "\n",
    "The main objective here is to query our dataset of nutrional information from a given list of food names and their quantity.\n",
    "\n",
    "Open food facts is the most complete food product databsae available, and supports the download of the entire database, or the use of an API.\n",
    "\n",
    "1. Find a way to host a db locally OR test the API suitability for this task\n",
    "2. Explore the dataset\n",
    "    - multi language support\n",
    "    - a lot of information not related to this application's needs, could be removed to reduce disk size\n",
    "3. Find a way to match food names with the ones found in the database\n",
    "    - fuzzy search?\n",
    "    - semantic or lexical search?\n",
    "    - Keep it simple, just use the API's text search function\n",
    "4. Find a way to output the nutrional value for the given amount\n",
    "    - simply unpack the retrieved json or db record"
   ]
  },
  {
   "cell_type": "code",
   "execution_count": null,
   "metadata": {},
   "outputs": [],
   "source": [
    "import pandas as pd\n",
    "\n",
    "df_chunks = pd.read_csv(\n",
    "    \"data/en.openfoodfacts.org.products.csv\",\n",
    "    sep=\"\\t\",\n",
    "    chunksize=10_000,\n",
    "    usecols=[\n",
    "        \"code\",\n",
    "        \"product_name\",\n",
    "        \"abbreviated_product_name\",\n",
    "        \"generic_name\",\n",
    "        \"quantity\",\n",
    "        \"ingredients_text\",\n",
    "        \"allergens\",\n",
    "        \"serving_size\",\n",
    "        \"serving_quantity\",\n",
    "        \"energy-kj_100g\",\n",
    "        \"energy-kcal_100g\",\n",
    "        \"fat_100g\",\n",
    "        \"saturated-fat_100g\",\n",
    "        \"carbohydrates_100g\",\n",
    "        \"sugars_100g\",\n",
    "        \"fiber_100g\",\n",
    "        \"proteins_100g\",\n",
    "        \"glycemic-index_100g\",\n",
    "    ],\n",
    "    dtype=str,\n",
    ")"
   ]
  },
  {
   "cell_type": "code",
   "execution_count": null,
   "metadata": {},
   "outputs": [],
   "source": [
    "next(df_chunks)"
   ]
  },
  {
   "cell_type": "markdown",
   "metadata": {},
   "source": [
    "## 2.2 create a database\n",
    "\n",
    "Exploring the data using a file will not achieve the performance required. \n",
    "\n",
    "- Build using DuckDB\n",
    "- Fuzzy search based on product_name\n",
    "- Retrieve carb data"
   ]
  },
  {
   "cell_type": "markdown",
   "metadata": {},
   "source": [
    "## 2.3 API\n",
    "\n",
    "Let's just try using the API"
   ]
  },
  {
   "cell_type": "code",
   "execution_count": null,
   "metadata": {},
   "outputs": [],
   "source": [
    "from openfoodfacts import API, APIVersion, Environment, Country\n",
    "\n",
    "api = API(\n",
    "    user_agent=\"DAIA/0.1\", version=APIVersion.v2, environment=Environment.net, country=Country.us\n",
    ")"
   ]
  },
  {
   "cell_type": "code",
   "execution_count": null,
   "metadata": {},
   "outputs": [],
   "source": [
    "r = api.product.text_search(\"Banana\", page_size=10000)"
   ]
  },
  {
   "cell_type": "code",
   "execution_count": null,
   "metadata": {},
   "outputs": [],
   "source": [
    "# ideal for performing fuzzy search\n",
    "l = [(product[\"product_name\"], product[\"code\"]) for product in r[\"products\"]]  "
   ]
  },
  {
   "cell_type": "code",
   "execution_count": null,
   "metadata": {},
   "outputs": [],
   "source": [
    "import pandas as pd\n",
    "\n",
    "\n",
    "def retrieve_nutrional_information(foods: list[str]) -> pd.DataFrame:\n",
    "    nutrional_info = {}\n",
    "    for food in foods:\n",
    "        try:\n",
    "            response = api.product.text_search(food)\n",
    "        except Exception as e:\n",
    "            raise ValueError(f\"Could not retrieve information for {food}\") from e\n",
    "        # TODO: improve product selection\n",
    "        # extract first product\n",
    "        product = response[\"products\"][0]\n",
    "        nutrional_info[product[\"code\"]] = {\n",
    "            \"user_input\": food,\n",
    "            \"retrieved_product\": product[\"product_name\"],\n",
    "            **product[\"nutriments\"],\n",
    "        }\n",
    "    df = pd.DataFrame.from_dict(data=nutrional_info, orient=\"index\")\n",
    "    return df\n",
    "\n",
    "\n",
    "foods = [\"Dark Chocolate\", \"Coke\"]\n",
    "df = retrieve_nutrional_information(foods)"
   ]
  },
  {
   "cell_type": "code",
   "execution_count": null,
   "metadata": {},
   "outputs": [],
   "source": [
    "df"
   ]
  },
  {
   "cell_type": "markdown",
   "metadata": {},
   "source": [
    "# 2.3 Use a combined search strategy\n",
    "\n",
    "1. Query the API with the given food name\n",
    "2. Retrieve all API output names and their corresponding barcodes\n",
    "3. Perform fuzzy search to find the most similar product to the query\n",
    "4. Use the barcode to retrieve the product's nutrional information"
   ]
  },
  {
   "cell_type": "markdown",
   "metadata": {},
   "source": [
    "# 2.4 Output data for bolus calculation\n",
    "\n",
    "1. Get the first product retrived by the API\n",
    "2. Calculate the number of carbs based on the user's given quantity\n",
    "3. Format it in a dictionary format"
   ]
  },
  {
   "cell_type": "code",
   "execution_count": null,
   "metadata": {},
   "outputs": [],
   "source": [
    "def count_carbs(nutriments: dict, quantity_g: float) -> float:\n",
    "    carbs = float(nutriments[\"carbohydrates_100g\"])\n",
    "    return carbs * quantity_g / 100\n",
    "\n",
    "\n",
    "def calculate_bolus_for_product(carbs: float, insulin_carb_factor: float) -> dict:\n",
    "    bolus = carbs / insulin_carb_factor\n",
    "    return bolus\n",
    "\n",
    "\n",
    "carbs = count_carbs(r[\"products\"][0][\"nutriments\"], 50)\n",
    "calculate_bolus_for_product(carbs, 150, 120, 40, 10)"
   ]
  }
 ],
 "metadata": {
  "kernelspec": {
   "display_name": ".venv",
   "language": "python",
   "name": "python3"
  },
  "language_info": {
   "codemirror_mode": {
    "name": "ipython",
    "version": 3
   },
   "file_extension": ".py",
   "mimetype": "text/x-python",
   "name": "python",
   "nbconvert_exporter": "python",
   "pygments_lexer": "ipython3",
   "version": "3.13.2"
  }
 },
 "nbformat": 4,
 "nbformat_minor": 2
}
