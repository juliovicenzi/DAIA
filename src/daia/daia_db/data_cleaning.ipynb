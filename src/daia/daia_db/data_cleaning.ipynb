{
 "cells": [
  {
   "cell_type": "markdown",
   "id": "02946bdb",
   "metadata": {},
   "source": [
    "# Cleaning nutrional information data"
   ]
  },
  {
   "cell_type": "code",
   "execution_count": null,
   "id": "d1f0a3f8",
   "metadata": {},
   "outputs": [],
   "source": [
    "import pandas as pd"
   ]
  },
  {
   "cell_type": "code",
   "execution_count": null,
   "id": "f3b26568",
   "metadata": {},
   "outputs": [],
   "source": [
    "# load the data\n",
    "# nutrient information \n",
    "df_nutrients = pd.read_csv(\"../../data/food_csv/nutrient.csv\")\n",
    "# food name\n",
    "df_food = pd.read_csv(\"../../data/food_csv/food.csv\")\n",
    "# food nutrient information\n",
    "df_food_nutrient = pd.read_csv(\"../../data/food_csv/food_nutrient.csv\")"
   ]
  },
  {
   "cell_type": "code",
   "execution_count": null,
   "id": "10fe4416",
   "metadata": {},
   "outputs": [],
   "source": [
    "df_nutrients = df_nutrients.dropna()\n",
    "df_nutrients = df_nutrients.astype({\"nutrient_nbr\": int})"
   ]
  },
  {
   "cell_type": "markdown",
   "id": "c95494d4",
   "metadata": {},
   "source": [
    "Join tables to include all nutrients in a single df"
   ]
  },
  {
   "cell_type": "code",
   "execution_count": null,
   "id": "399a2ccf",
   "metadata": {},
   "outputs": [],
   "source": [
    "df_cleaned_nutrient = df_food_nutrient.merge(\n",
    "    df_nutrients[[\"nutrient_nbr\", \"name\", \"unit_name\"]],\n",
    "    left_on=\"nutrient_id\",\n",
    "    right_on=\"nutrient_nbr\",\n",
    "    how=\"inner\",\n",
    ")\n",
    "df_cleaned_nutrient = df_cleaned_nutrient[\n",
    "    [\"fdc_id\", \"nutrient_id\", \"amount\", \"name\", \"unit_name\"]\n",
    "]"
   ]
  },
  {
   "cell_type": "markdown",
   "id": "deb352dc",
   "metadata": {},
   "source": [
    "Show the most common nutrients"
   ]
  },
  {
   "cell_type": "code",
   "execution_count": null,
   "id": "f496f1b4",
   "metadata": {},
   "outputs": [],
   "source": [
    "df_cleaned_nutrient[df_cleaned_nutrient[\"amount\"] > 0].groupby(\n",
    "    \"name\"\n",
    ").count().sort_values(by=\"fdc_id\", ascending=False)"
   ]
  },
  {
   "cell_type": "markdown",
   "id": "45215ce5",
   "metadata": {},
   "source": [
    "Remove unwanted columns"
   ]
  },
  {
   "cell_type": "code",
   "execution_count": null,
   "id": "730e1ab3",
   "metadata": {},
   "outputs": [],
   "source": [
    "required_nutrients = (\n",
    "    \"Protein\",\n",
    "    \"Energy\",\n",
    "    \"Total lipid (fat)\",\n",
    "    \"Carbohydrate, by summation\",\n",
    "    \"Fiber, total dietary\",\n",
    ")\n",
    "df_cleaned_nutrient = df_cleaned_nutrient[\n",
    "    df_cleaned_nutrient[\"name\"].isin(required_nutrients)\n",
    "]"
   ]
  },
  {
   "cell_type": "code",
   "execution_count": null,
   "id": "7190bcb9",
   "metadata": {},
   "outputs": [],
   "source": [
    "df_cleaned_nutrient"
   ]
  },
  {
   "cell_type": "markdown",
   "id": "62795cab",
   "metadata": {},
   "source": [
    "Append the unit name to the end of the nutrient name, to simplify data structure"
   ]
  },
  {
   "cell_type": "code",
   "execution_count": null,
   "id": "44e48f60",
   "metadata": {},
   "outputs": [],
   "source": [
    "df_cleaned_nutrient[\"nutrient\"] = (\n",
    "    df_cleaned_nutrient[\"name\"] + \" (\" + df_cleaned_nutrient[\"unit_name\"] + \")\"\n",
    ")"
   ]
  },
  {
   "cell_type": "markdown",
   "id": "289d5c56",
   "metadata": {},
   "source": [
    "Pivot the table, turning each nutrient into a column, to be joined with the food table"
   ]
  },
  {
   "cell_type": "code",
   "execution_count": null,
   "id": "3b0fa0b2",
   "metadata": {},
   "outputs": [],
   "source": [
    "df_pivot_nutrient = df_cleaned_nutrient.pivot(\n",
    "    index=\"fdc_id\", columns=\"nutrient\", values=\"amount\"\n",
    ")"
   ]
  },
  {
   "cell_type": "code",
   "execution_count": null,
   "id": "afe87e51",
   "metadata": {},
   "outputs": [],
   "source": [
    "df_nutrional_information = df_food.merge(df_pivot_nutrient, on=\"fdc_id\", how=\"left\")"
   ]
  },
  {
   "cell_type": "markdown",
   "id": "96c87c76",
   "metadata": {},
   "source": [
    "Rename columns to follow a standard and avoid whitespapce"
   ]
  },
  {
   "cell_type": "code",
   "execution_count": null,
   "id": "92ddeec5",
   "metadata": {},
   "outputs": [],
   "source": [
    "df_nutrional_information = df_nutrional_information.rename(\n",
    "    columns={\n",
    "        \"description\": \"food_name\",\n",
    "        \"Carbohydrate, by summation (G)\": \"carbohydrates_g\",\n",
    "        \"Energy (KCAL)\": \"energy_kcal\",\n",
    "        \"Total lipid (fat) (G)\": \"lipid_g\",\n",
    "        \"Protein (G)\": \"protein_g\",\n",
    "        \"Fiber, total dietary (G)\": \"fiber_g\",\n",
    "    },\n",
    ")\n",
    "df_nutrional_information = df_nutrional_information[\n",
    "    [\"food_name\", \"carbohydrates_g\", \"energy_kcal\", \"lipid_g\", \"protein_g\", \"fiber_g\"]\n",
    "]"
   ]
  },
  {
   "cell_type": "markdown",
   "id": "a9640a54",
   "metadata": {},
   "source": [
    "Save the cleaned data"
   ]
  },
  {
   "cell_type": "code",
   "execution_count": null,
   "id": "5cc9b30e",
   "metadata": {},
   "outputs": [],
   "source": [
    "df_nutrional_information = df_nutrional_information.dropna()\n",
    "df_nutrional_information.to_csv(\"data/cleaned_food_data.csv\", index=False)"
   ]
  },
  {
   "cell_type": "code",
   "execution_count": null,
   "id": "821f9351",
   "metadata": {},
   "outputs": [],
   "source": []
  },
  {
   "cell_type": "code",
   "execution_count": null,
   "id": "5fd4daef",
   "metadata": {},
   "outputs": [],
   "source": []
  }
 ],
 "metadata": {
  "kernelspec": {
   "display_name": "DAIA",
   "language": "python",
   "name": "python3"
  },
  "language_info": {
   "codemirror_mode": {
    "name": "ipython",
    "version": 3
   },
   "file_extension": ".py",
   "mimetype": "text/x-python",
   "name": "python",
   "nbconvert_exporter": "python",
   "pygments_lexer": "ipython3",
   "version": "3.10.12"
  }
 },
 "nbformat": 4,
 "nbformat_minor": 5
}
